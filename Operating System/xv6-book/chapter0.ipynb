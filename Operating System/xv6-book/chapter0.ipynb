{
 "cells": [
  {
   "cell_type": "markdown",
   "metadata": {},
   "source": [
    "# Chapter 0 - Operating system interfaces\n",
    "\n",
    "The job of an **operating system** is:\n",
    "* to share a computer among multiple programs.\n",
    "* to provide a more useful set of services than the hardware alone supports through interface.\n",
    "\n",
    "**Process** is a running program, it has **memory** to contian:\n",
    "* **instructions**: implement the program’s computation.\n",
    "* **data**: the variables on which the computation acts.\n",
    "* **stack**: organizes the program’s procedure calls.\n",
    "\n",
    "\n",
    "When a process needs to invoke a kernel service, it invokes a procedure call in the operating system interface, the procedure is called a **system call**. The system call enters the kernel, the kernel performs the service and returns. Thus a process alternates between executing in **user space** and **kernel space**.\n",
    "\n",
    "The kernel uses the CPU’s **hardware protection mechanisms** to ensure that each process executing in user space can access only its own memory. The kernel executes with the hardware privileges required to implement these protections; user programs execute without those privileges. When a user program invokes a system call, the hardware raises the privilege level and starts executing a pre-arranged function in the kernel.\n",
    "\n",
    "\n",
    "![Figure0-1](./images/figure0-1.png)\n",
    "\n",
    "\n",
    "The **shell** is an ordinary program that reads commands from the user and executes them. The fact that the shell is a user program, not part of the kernel, illustrates the power of the system call interface."
   ]
  },
  {
   "cell_type": "markdown",
   "metadata": {},
   "source": [
    "## Processes and memory\n",
    "\n",
    "An xv6 process consists of user-space memory (instructions, data, and stack) and per-process state private to the kernel.\n",
    "\n",
    "**Time-share processes**: it transparently switches the available CPUs among the set of processes waiting to execute.\n",
    "\n",
    "The **fork** system call: Fork creates a new process, called the **child process**, with exactly the same memory contents as the calling process, called the **parent process**. Fork returns in both the parent and the child, in the parent, fork returns the child’s pid; in the child, it returns zero. Although the child has the same memory contents as the parent initially, the parent and child are executing with different memory and different registers: changing a variable in one does not affect the other."
   ]
  },
  {
   "cell_type": "markdown",
   "metadata": {},
   "source": [
    "![Figure0-2](./images/figure0-2.png)"
   ]
  },
  {
   "cell_type": "markdown",
   "metadata": {},
   "source": [
    "The **exec** system call replaces the calling process’s memory with a new memory image loaded from a file stored in the file system. While **fork** allocates the memory required for the child’s copy of the parent’s memory, and **exec** allocates enough memory to hold the executable file.\n",
    "\n",
    "A process that needs more memory at run-time (perhaps for malloc) can call sbrk(n) to grow its data memory by n bytes; sbrk returns the location of the new memory."
   ]
  },
  {
   "cell_type": "markdown",
   "metadata": {},
   "source": [
    "## I/O and File descriptors\n",
    "\n",
    "A **file descriptor** is a small integer representing a kernel-managed object that a process may read from or write to.\n",
    "\n",
    "A process:\n",
    "* reads from file descriptor 0 (standard input).\n",
    "* writes output to file descriptor 1 (standard output).\n",
    "* writes error messages to file descriptor 2 (standard error).\n",
    "\n",
    "The **read** and **write** system calls read bytes from and write bytes to open files named by file descriptors.\n",
    "\n",
    "The **close** system call releases a file descriptor, making it free for reuse by a future open, pipe, or dup system call.\n",
    "\n",
    "The **open** system call uses the smallest available file descriptor for the newly opened file.\n",
    "\n",
    "File descriptors and fork interact to make I/O redirection easy to implement, `cat < input.txt`:\n",
    "\n",
    "``` C\n",
    "char *argv[2];\n",
    "     argv[0] = \"cat\";\n",
    "     argv[1] = 0;\n",
    "     if(fork() == 0) {\n",
    "       close(0);\n",
    "       open(\"input.txt\", O_RDONLY);\n",
    "       exec(\"cat\", argv);\n",
    "}\n",
    "```\n",
    "\n",
    "\n",
    "Although fork copies the file descriptor table, each underlying file offset is shared between parent and child:\n",
    "\n",
    "``` C\n",
    "if(fork() == 0) {\n",
    "       write(1, \"hello \", 6);\n",
    "       exit();\n",
    "     } else {\n",
    "       wait();\n",
    "       write(1, \"world\\n\", 6);\n",
    "     }\n",
    "}\n",
    "\n",
    "Output >>> hello world\n",
    "```\n",
    "\n",
    "The **dup** system call duplicates an existing file descriptor, returning a new one that refers to the same underlying I/O object. The `2>&1` tells the shell to give the command a file descriptor 2 that is a duplicate of descriptor 1.\n",
    "\n",
    "File descriptors are a powerful abstraction, because they hide the details of what pipe they are connected to: a process writing to file descriptor 1 may be writing to a file, to\n",
    "a device like the console, or to a pipe."
   ]
  },
  {
   "cell_type": "markdown",
   "metadata": {
    "collapsed": true
   },
   "source": [
    "## Pipes\n",
    "\n",
    "A **pipe** is a small kernel buffer exposed to processes as a pair of file descriptors, one for reading and one for writing. Writing data to one end of the pipe makes that data available for reading from the other end of the pipe. Pipes provide a way for processes to communicate.\n",
    "\n",
    "Four advantages over temporary files:\n",
    "\n",
    "* pipes automatically clean themselves up.\n",
    "* pipes can pass arbitrarily long streams of data, while file redirection requires enough free space on disk to store all the data.\n",
    "* pipes allow for parallel execution of pipeline stages, while the file approach requires the first program to finish before the second starts.\n",
    "* pipes’ blocking reads and writes are more efficient than the non-blocking semantics of files."
   ]
  },
  {
   "cell_type": "markdown",
   "metadata": {},
   "source": [
    "## File system\n",
    "\n",
    "**Data files** are uninterpreted byte arrays, **directories** contain named references to data files and other directories. The directories form a tree, starting at a special directory called the root.\n",
    "\n",
    "\n",
    "The **mkdir** systmem call creates a new directory.\n",
    "\n",
    "The **open** system call with the O_CREATE flag creates a new data file.\n",
    "\n",
    "The **mknod** system call creates a new device file.\n",
    "\n",
    "The **fstat** retrieves information about the object a file descriptor refers to:\n",
    "\n",
    "``` C\n",
    "#define T_DIR  1 // Directory\n",
    "#define T_FILE 2 // File\n",
    "#define T_DEV  3 // Device\n",
    "\n",
    "struct stat {\n",
    "    short type;  // Type of file\n",
    "    int dev;     // File system’s disk device\n",
    "    uint ino;    // Inode number\n",
    "    short nlink; // Number of links to file\n",
    "    uint size;   // Size of file in bytes\n",
    "};\n",
    "```\n",
    "\n",
    "Each **inode** is identified by a unique inode number.\n",
    "\n",
    "\n",
    "The **link** system call creates another file system name referring to the same inode as an existing file.\n",
    "\n",
    "The **unlink** system call removes a name from the file system. The file’s inode and the disk space holding its content are only freed when the file’s link count is zero and no file descriptors refer to it"
   ]
  },
  {
   "cell_type": "code",
   "execution_count": null,
   "metadata": {
    "collapsed": true
   },
   "outputs": [],
   "source": []
  }
 ],
 "metadata": {
  "kernelspec": {
   "display_name": "Python 3",
   "language": "python",
   "name": "python3"
  },
  "language_info": {
   "codemirror_mode": {
    "name": "ipython",
    "version": 3
   },
   "file_extension": ".py",
   "mimetype": "text/x-python",
   "name": "python",
   "nbconvert_exporter": "python",
   "pygments_lexer": "ipython3",
   "version": "3.6.2"
  }
 },
 "nbformat": 4,
 "nbformat_minor": 2
}
